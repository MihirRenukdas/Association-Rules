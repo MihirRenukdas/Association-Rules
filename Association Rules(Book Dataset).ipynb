{
 "cells": [
  {
   "cell_type": "code",
   "execution_count": 1,
   "metadata": {},
   "outputs": [
    {
     "name": "stdout",
     "output_type": "stream",
     "text": [
      "Requirement already satisfied: mlxtend in c:\\users\\mihir\\anaconda3\\lib\\site-packages (0.18.0)\n",
      "Requirement already satisfied: joblib>=0.13.2 in c:\\users\\mihir\\anaconda3\\lib\\site-packages (from mlxtend) (1.0.1)\n",
      "Requirement already satisfied: matplotlib>=3.0.0 in c:\\users\\mihir\\anaconda3\\lib\\site-packages (from mlxtend) (3.3.4)\n",
      "Requirement already satisfied: scipy>=1.2.1 in c:\\users\\mihir\\anaconda3\\lib\\site-packages (from mlxtend) (1.6.2)\n",
      "Requirement already satisfied: pandas>=0.24.2 in c:\\users\\mihir\\anaconda3\\lib\\site-packages (from mlxtend) (1.2.4)\n",
      "Requirement already satisfied: setuptools in c:\\users\\mihir\\anaconda3\\lib\\site-packages (from mlxtend) (52.0.0.post20210125)\n",
      "Requirement already satisfied: numpy>=1.16.2 in c:\\users\\mihir\\anaconda3\\lib\\site-packages (from mlxtend) (1.20.1)\n",
      "Requirement already satisfied: scikit-learn>=0.20.3 in c:\\users\\mihir\\anaconda3\\lib\\site-packages (from mlxtend) (0.24.1)\n",
      "Requirement already satisfied: pyparsing!=2.0.4,!=2.1.2,!=2.1.6,>=2.0.3 in c:\\users\\mihir\\anaconda3\\lib\\site-packages (from matplotlib>=3.0.0->mlxtend) (2.4.7)\n",
      "Requirement already satisfied: python-dateutil>=2.1 in c:\\users\\mihir\\anaconda3\\lib\\site-packages (from matplotlib>=3.0.0->mlxtend) (2.8.1)\n",
      "Requirement already satisfied: cycler>=0.10 in c:\\users\\mihir\\anaconda3\\lib\\site-packages (from matplotlib>=3.0.0->mlxtend) (0.10.0)\n",
      "Requirement already satisfied: pillow>=6.2.0 in c:\\users\\mihir\\anaconda3\\lib\\site-packages (from matplotlib>=3.0.0->mlxtend) (8.2.0)\n",
      "Requirement already satisfied: kiwisolver>=1.0.1 in c:\\users\\mihir\\anaconda3\\lib\\site-packages (from matplotlib>=3.0.0->mlxtend) (1.3.1)\n",
      "Requirement already satisfied: six in c:\\users\\mihir\\anaconda3\\lib\\site-packages (from cycler>=0.10->matplotlib>=3.0.0->mlxtend) (1.15.0)\n",
      "Requirement already satisfied: pytz>=2017.3 in c:\\users\\mihir\\anaconda3\\lib\\site-packages (from pandas>=0.24.2->mlxtend) (2021.1)\n",
      "Requirement already satisfied: threadpoolctl>=2.0.0 in c:\\users\\mihir\\anaconda3\\lib\\site-packages (from scikit-learn>=0.20.3->mlxtend) (2.1.0)\n"
     ]
    }
   ],
   "source": [
    "import pandas as pd\n",
    "!pip install mlxtend\n",
    "from mlxtend.frequent_patterns import apriori,association_rules\n",
    "from mlxtend.preprocessing import TransactionEncoder"
   ]
  },
  {
   "cell_type": "code",
   "execution_count": 2,
   "metadata": {},
   "outputs": [],
   "source": [
    "data=pd.read_csv(\"E:\\\\Data Science\\\\book.csv\",sep=\"\\n\",header=None)[0].str.split(\",\",expand=True)"
   ]
  },
  {
   "cell_type": "code",
   "execution_count": 3,
   "metadata": {},
   "outputs": [],
   "source": [
    "#data=pd.read_csv(\"D:/DATA SCIENCE/DATA SCIENCE ASSIGNMENTS/Assignments/Association Rule/groceries.csv\",names=['item'+str(i) for i in range(1,11)])"
   ]
  },
  {
   "cell_type": "code",
   "execution_count": 4,
   "metadata": {
    "scrolled": true
   },
   "outputs": [
    {
     "data": {
      "text/html": [
       "<div>\n",
       "<style scoped>\n",
       "    .dataframe tbody tr th:only-of-type {\n",
       "        vertical-align: middle;\n",
       "    }\n",
       "\n",
       "    .dataframe tbody tr th {\n",
       "        vertical-align: top;\n",
       "    }\n",
       "\n",
       "    .dataframe thead th {\n",
       "        text-align: right;\n",
       "    }\n",
       "</style>\n",
       "<table border=\"1\" class=\"dataframe\">\n",
       "  <thead>\n",
       "    <tr style=\"text-align: right;\">\n",
       "      <th></th>\n",
       "      <th>0</th>\n",
       "      <th>1</th>\n",
       "      <th>2</th>\n",
       "      <th>3</th>\n",
       "      <th>4</th>\n",
       "      <th>5</th>\n",
       "      <th>6</th>\n",
       "      <th>7</th>\n",
       "      <th>8</th>\n",
       "      <th>9</th>\n",
       "      <th>10</th>\n",
       "      <th>11</th>\n",
       "    </tr>\n",
       "  </thead>\n",
       "  <tbody>\n",
       "    <tr>\n",
       "      <th>0</th>\n",
       "      <td></td>\n",
       "      <td>\"User.ID\"</td>\n",
       "      <td>\"Book.Title\"</td>\n",
       "      <td>\"Book.Rating\"</td>\n",
       "      <td>None</td>\n",
       "      <td>None</td>\n",
       "      <td>None</td>\n",
       "      <td>None</td>\n",
       "      <td>None</td>\n",
       "      <td>None</td>\n",
       "      <td>None</td>\n",
       "      <td>None</td>\n",
       "    </tr>\n",
       "    <tr>\n",
       "      <th>1</th>\n",
       "      <td>1</td>\n",
       "      <td>276726</td>\n",
       "      <td>\"Classical Mythology\"</td>\n",
       "      <td>5</td>\n",
       "      <td>None</td>\n",
       "      <td>None</td>\n",
       "      <td>None</td>\n",
       "      <td>None</td>\n",
       "      <td>None</td>\n",
       "      <td>None</td>\n",
       "      <td>None</td>\n",
       "      <td>None</td>\n",
       "    </tr>\n",
       "    <tr>\n",
       "      <th>2</th>\n",
       "      <td>2</td>\n",
       "      <td>276729</td>\n",
       "      <td>\"Clara Callan\"</td>\n",
       "      <td>3</td>\n",
       "      <td>None</td>\n",
       "      <td>None</td>\n",
       "      <td>None</td>\n",
       "      <td>None</td>\n",
       "      <td>None</td>\n",
       "      <td>None</td>\n",
       "      <td>None</td>\n",
       "      <td>None</td>\n",
       "    </tr>\n",
       "    <tr>\n",
       "      <th>3</th>\n",
       "      <td>3</td>\n",
       "      <td>276729</td>\n",
       "      <td>\"Decision in Normandy\"</td>\n",
       "      <td>6</td>\n",
       "      <td>None</td>\n",
       "      <td>None</td>\n",
       "      <td>None</td>\n",
       "      <td>None</td>\n",
       "      <td>None</td>\n",
       "      <td>None</td>\n",
       "      <td>None</td>\n",
       "      <td>None</td>\n",
       "    </tr>\n",
       "    <tr>\n",
       "      <th>4</th>\n",
       "      <td>4</td>\n",
       "      <td>276736</td>\n",
       "      <td>\"Flu: The Story of the Great Influenza Pandemi...</td>\n",
       "      <td>8</td>\n",
       "      <td>None</td>\n",
       "      <td>None</td>\n",
       "      <td>None</td>\n",
       "      <td>None</td>\n",
       "      <td>None</td>\n",
       "      <td>None</td>\n",
       "      <td>None</td>\n",
       "      <td>None</td>\n",
       "    </tr>\n",
       "  </tbody>\n",
       "</table>\n",
       "</div>"
      ],
      "text/plain": [
       "  0          1                                                  2   \\\n",
       "0     \"User.ID\"                                       \"Book.Title\"   \n",
       "1  1     276726                              \"Classical Mythology\"   \n",
       "2  2     276729                                     \"Clara Callan\"   \n",
       "3  3     276729                             \"Decision in Normandy\"   \n",
       "4  4     276736  \"Flu: The Story of the Great Influenza Pandemi...   \n",
       "\n",
       "              3     4     5     6     7     8     9     10    11  \n",
       "0  \"Book.Rating\"  None  None  None  None  None  None  None  None  \n",
       "1              5  None  None  None  None  None  None  None  None  \n",
       "2              3  None  None  None  None  None  None  None  None  \n",
       "3              6  None  None  None  None  None  None  None  None  \n",
       "4              8  None  None  None  None  None  None  None  None  "
      ]
     },
     "execution_count": 4,
     "metadata": {},
     "output_type": "execute_result"
    }
   ],
   "source": [
    "data.head()"
   ]
  },
  {
   "cell_type": "code",
   "execution_count": 5,
   "metadata": {},
   "outputs": [
    {
     "name": "stdout",
     "output_type": "stream",
     "text": [
      "<class 'pandas.core.frame.DataFrame'>\n",
      "RangeIndex: 10001 entries, 0 to 10000\n",
      "Data columns (total 12 columns):\n",
      " #   Column  Non-Null Count  Dtype \n",
      "---  ------  --------------  ----- \n",
      " 0   0       10001 non-null  object\n",
      " 1   1       10001 non-null  object\n",
      " 2   2       10001 non-null  object\n",
      " 3   3       10001 non-null  object\n",
      " 4   4       1223 non-null   object\n",
      " 5   5       243 non-null    object\n",
      " 6   6       72 non-null     object\n",
      " 7   7       24 non-null     object\n",
      " 8   8       11 non-null     object\n",
      " 9   9       5 non-null      object\n",
      " 10  10      1 non-null      object\n",
      " 11  11      1 non-null      object\n",
      "dtypes: object(12)\n",
      "memory usage: 937.7+ KB\n"
     ]
    }
   ],
   "source": [
    "data.info()"
   ]
  },
  {
   "cell_type": "code",
   "execution_count": null,
   "metadata": {},
   "outputs": [],
   "source": []
  },
  {
   "cell_type": "markdown",
   "metadata": {},
   "source": [
    "## Pre-processing"
   ]
  },
  {
   "cell_type": "code",
   "execution_count": 6,
   "metadata": {},
   "outputs": [
    {
     "data": {
      "text/html": [
       "<div>\n",
       "<style scoped>\n",
       "    .dataframe tbody tr th:only-of-type {\n",
       "        vertical-align: middle;\n",
       "    }\n",
       "\n",
       "    .dataframe tbody tr th {\n",
       "        vertical-align: top;\n",
       "    }\n",
       "\n",
       "    .dataframe thead th {\n",
       "        text-align: right;\n",
       "    }\n",
       "</style>\n",
       "<table border=\"1\" class=\"dataframe\">\n",
       "  <thead>\n",
       "    <tr style=\"text-align: right;\">\n",
       "      <th></th>\n",
       "      <th>0_</th>\n",
       "      <th>0_1</th>\n",
       "      <th>0_10</th>\n",
       "      <th>0_100</th>\n",
       "      <th>0_1000</th>\n",
       "      <th>0_10000</th>\n",
       "      <th>0_1001</th>\n",
       "      <th>0_1002</th>\n",
       "      <th>0_1003</th>\n",
       "      <th>0_1004</th>\n",
       "      <th>...</th>\n",
       "      <th>8_4</th>\n",
       "      <th>8_7</th>\n",
       "      <th>8_8</th>\n",
       "      <th>8_9</th>\n",
       "      <th>9_ Hollywood</th>\n",
       "      <th>9_10</th>\n",
       "      <th>9_7</th>\n",
       "      <th>9_9</th>\n",
       "      <th>10_ and the Irrepressible Urge to Say What I Think\"</th>\n",
       "      <th>11_4</th>\n",
       "    </tr>\n",
       "  </thead>\n",
       "  <tbody>\n",
       "    <tr>\n",
       "      <th>9996</th>\n",
       "      <td>0</td>\n",
       "      <td>0</td>\n",
       "      <td>0</td>\n",
       "      <td>0</td>\n",
       "      <td>0</td>\n",
       "      <td>0</td>\n",
       "      <td>0</td>\n",
       "      <td>0</td>\n",
       "      <td>0</td>\n",
       "      <td>0</td>\n",
       "      <td>...</td>\n",
       "      <td>0</td>\n",
       "      <td>0</td>\n",
       "      <td>0</td>\n",
       "      <td>0</td>\n",
       "      <td>0</td>\n",
       "      <td>0</td>\n",
       "      <td>0</td>\n",
       "      <td>0</td>\n",
       "      <td>0</td>\n",
       "      <td>0</td>\n",
       "    </tr>\n",
       "    <tr>\n",
       "      <th>9997</th>\n",
       "      <td>0</td>\n",
       "      <td>0</td>\n",
       "      <td>0</td>\n",
       "      <td>0</td>\n",
       "      <td>0</td>\n",
       "      <td>0</td>\n",
       "      <td>0</td>\n",
       "      <td>0</td>\n",
       "      <td>0</td>\n",
       "      <td>0</td>\n",
       "      <td>...</td>\n",
       "      <td>0</td>\n",
       "      <td>0</td>\n",
       "      <td>0</td>\n",
       "      <td>0</td>\n",
       "      <td>0</td>\n",
       "      <td>0</td>\n",
       "      <td>0</td>\n",
       "      <td>0</td>\n",
       "      <td>0</td>\n",
       "      <td>0</td>\n",
       "    </tr>\n",
       "    <tr>\n",
       "      <th>9998</th>\n",
       "      <td>0</td>\n",
       "      <td>0</td>\n",
       "      <td>0</td>\n",
       "      <td>0</td>\n",
       "      <td>0</td>\n",
       "      <td>0</td>\n",
       "      <td>0</td>\n",
       "      <td>0</td>\n",
       "      <td>0</td>\n",
       "      <td>0</td>\n",
       "      <td>...</td>\n",
       "      <td>0</td>\n",
       "      <td>0</td>\n",
       "      <td>0</td>\n",
       "      <td>0</td>\n",
       "      <td>0</td>\n",
       "      <td>0</td>\n",
       "      <td>0</td>\n",
       "      <td>0</td>\n",
       "      <td>0</td>\n",
       "      <td>0</td>\n",
       "    </tr>\n",
       "    <tr>\n",
       "      <th>9999</th>\n",
       "      <td>0</td>\n",
       "      <td>0</td>\n",
       "      <td>0</td>\n",
       "      <td>0</td>\n",
       "      <td>0</td>\n",
       "      <td>0</td>\n",
       "      <td>0</td>\n",
       "      <td>0</td>\n",
       "      <td>0</td>\n",
       "      <td>0</td>\n",
       "      <td>...</td>\n",
       "      <td>0</td>\n",
       "      <td>0</td>\n",
       "      <td>0</td>\n",
       "      <td>0</td>\n",
       "      <td>0</td>\n",
       "      <td>0</td>\n",
       "      <td>0</td>\n",
       "      <td>0</td>\n",
       "      <td>0</td>\n",
       "      <td>0</td>\n",
       "    </tr>\n",
       "    <tr>\n",
       "      <th>10000</th>\n",
       "      <td>0</td>\n",
       "      <td>0</td>\n",
       "      <td>0</td>\n",
       "      <td>0</td>\n",
       "      <td>0</td>\n",
       "      <td>1</td>\n",
       "      <td>0</td>\n",
       "      <td>0</td>\n",
       "      <td>0</td>\n",
       "      <td>0</td>\n",
       "      <td>...</td>\n",
       "      <td>0</td>\n",
       "      <td>0</td>\n",
       "      <td>0</td>\n",
       "      <td>0</td>\n",
       "      <td>0</td>\n",
       "      <td>0</td>\n",
       "      <td>0</td>\n",
       "      <td>0</td>\n",
       "      <td>0</td>\n",
       "      <td>0</td>\n",
       "    </tr>\n",
       "  </tbody>\n",
       "</table>\n",
       "<p>5 rows × 23154 columns</p>\n",
       "</div>"
      ],
      "text/plain": [
       "       0_  0_1  0_10  0_100  0_1000  0_10000  0_1001  0_1002  0_1003  0_1004  \\\n",
       "9996    0    0     0      0       0        0       0       0       0       0   \n",
       "9997    0    0     0      0       0        0       0       0       0       0   \n",
       "9998    0    0     0      0       0        0       0       0       0       0   \n",
       "9999    0    0     0      0       0        0       0       0       0       0   \n",
       "10000   0    0     0      0       0        1       0       0       0       0   \n",
       "\n",
       "       ...  8_4  8_7  8_8  8_9  9_ Hollywood  9_10  9_7  9_9  \\\n",
       "9996   ...    0    0    0    0             0     0    0    0   \n",
       "9997   ...    0    0    0    0             0     0    0    0   \n",
       "9998   ...    0    0    0    0             0     0    0    0   \n",
       "9999   ...    0    0    0    0             0     0    0    0   \n",
       "10000  ...    0    0    0    0             0     0    0    0   \n",
       "\n",
       "       10_ and the Irrepressible Urge to Say What I Think\"  11_4  \n",
       "9996                                                   0       0  \n",
       "9997                                                   0       0  \n",
       "9998                                                   0       0  \n",
       "9999                                                   0       0  \n",
       "10000                                                  0       0  \n",
       "\n",
       "[5 rows x 23154 columns]"
      ]
     },
     "execution_count": 6,
     "metadata": {},
     "output_type": "execute_result"
    }
   ],
   "source": [
    "#As the data is not in transaction formation we using transaction formation\n",
    "data=pd.get_dummies(data)\n",
    "data.tail()"
   ]
  },
  {
   "cell_type": "markdown",
   "metadata": {},
   "source": [
    "## Apriori Algorithm"
   ]
  },
  {
   "cell_type": "code",
   "execution_count": 7,
   "metadata": {},
   "outputs": [
    {
     "data": {
      "text/html": [
       "<div>\n",
       "<style scoped>\n",
       "    .dataframe tbody tr th:only-of-type {\n",
       "        vertical-align: middle;\n",
       "    }\n",
       "\n",
       "    .dataframe tbody tr th {\n",
       "        vertical-align: top;\n",
       "    }\n",
       "\n",
       "    .dataframe thead th {\n",
       "        text-align: right;\n",
       "    }\n",
       "</style>\n",
       "<table border=\"1\" class=\"dataframe\">\n",
       "  <thead>\n",
       "    <tr style=\"text-align: right;\">\n",
       "      <th></th>\n",
       "      <th>support</th>\n",
       "      <th>itemsets</th>\n",
       "    </tr>\n",
       "  </thead>\n",
       "  <tbody>\n",
       "    <tr>\n",
       "      <th>0</th>\n",
       "      <td>0.005000</td>\n",
       "      <td>(1_1025)</td>\n",
       "    </tr>\n",
       "    <tr>\n",
       "      <th>1</th>\n",
       "      <td>0.002400</td>\n",
       "      <td>(1_1131)</td>\n",
       "    </tr>\n",
       "    <tr>\n",
       "      <th>2</th>\n",
       "      <td>0.001300</td>\n",
       "      <td>(1_1155)</td>\n",
       "    </tr>\n",
       "    <tr>\n",
       "      <th>3</th>\n",
       "      <td>0.005299</td>\n",
       "      <td>(1_1211)</td>\n",
       "    </tr>\n",
       "    <tr>\n",
       "      <th>4</th>\n",
       "      <td>0.002300</td>\n",
       "      <td>(1_1248)</td>\n",
       "    </tr>\n",
       "    <tr>\n",
       "      <th>...</th>\n",
       "      <td>...</td>\n",
       "      <td>...</td>\n",
       "    </tr>\n",
       "    <tr>\n",
       "      <th>299</th>\n",
       "      <td>0.001300</td>\n",
       "      <td>(3_9, 1_638)</td>\n",
       "    </tr>\n",
       "    <tr>\n",
       "      <th>300</th>\n",
       "      <td>0.002500</td>\n",
       "      <td>(1_643, 3_8)</td>\n",
       "    </tr>\n",
       "    <tr>\n",
       "      <th>301</th>\n",
       "      <td>0.001800</td>\n",
       "      <td>(3_10, 1_882)</td>\n",
       "    </tr>\n",
       "    <tr>\n",
       "      <th>302</th>\n",
       "      <td>0.001100</td>\n",
       "      <td>(4_10, 3_ Book 2)\")</td>\n",
       "    </tr>\n",
       "    <tr>\n",
       "      <th>303</th>\n",
       "      <td>0.001200</td>\n",
       "      <td>(4_7, 3_ Book 2)\")</td>\n",
       "    </tr>\n",
       "  </tbody>\n",
       "</table>\n",
       "<p>304 rows × 2 columns</p>\n",
       "</div>"
      ],
      "text/plain": [
       "      support             itemsets\n",
       "0    0.005000             (1_1025)\n",
       "1    0.002400             (1_1131)\n",
       "2    0.001300             (1_1155)\n",
       "3    0.005299             (1_1211)\n",
       "4    0.002300             (1_1248)\n",
       "..        ...                  ...\n",
       "299  0.001300         (3_9, 1_638)\n",
       "300  0.002500         (1_643, 3_8)\n",
       "301  0.001800        (3_10, 1_882)\n",
       "302  0.001100  (4_10, 3_ Book 2)\")\n",
       "303  0.001200   (4_7, 3_ Book 2)\")\n",
       "\n",
       "[304 rows x 2 columns]"
      ]
     },
     "execution_count": 7,
     "metadata": {},
     "output_type": "execute_result"
    }
   ],
   "source": [
    "frequent_itemsets=apriori(data,min_support=0.001,use_colnames=True)\n",
    "frequent_itemsets"
   ]
  },
  {
   "cell_type": "code",
   "execution_count": 8,
   "metadata": {},
   "outputs": [
    {
     "data": {
      "text/html": [
       "<div>\n",
       "<style scoped>\n",
       "    .dataframe tbody tr th:only-of-type {\n",
       "        vertical-align: middle;\n",
       "    }\n",
       "\n",
       "    .dataframe tbody tr th {\n",
       "        vertical-align: top;\n",
       "    }\n",
       "\n",
       "    .dataframe thead th {\n",
       "        text-align: right;\n",
       "    }\n",
       "</style>\n",
       "<table border=\"1\" class=\"dataframe\">\n",
       "  <thead>\n",
       "    <tr style=\"text-align: right;\">\n",
       "      <th></th>\n",
       "      <th>antecedents</th>\n",
       "      <th>consequents</th>\n",
       "      <th>antecedent support</th>\n",
       "      <th>consequent support</th>\n",
       "      <th>support</th>\n",
       "      <th>confidence</th>\n",
       "      <th>lift</th>\n",
       "      <th>leverage</th>\n",
       "      <th>conviction</th>\n",
       "    </tr>\n",
       "  </thead>\n",
       "  <tbody>\n",
       "    <tr>\n",
       "      <th>0</th>\n",
       "      <td>(1_1025)</td>\n",
       "      <td>(3_8)</td>\n",
       "      <td>0.005000</td>\n",
       "      <td>0.199480</td>\n",
       "      <td>0.0011</td>\n",
       "      <td>0.220000</td>\n",
       "      <td>1.102867</td>\n",
       "      <td>0.000103</td>\n",
       "      <td>1.026308</td>\n",
       "    </tr>\n",
       "    <tr>\n",
       "      <th>1</th>\n",
       "      <td>(3_8)</td>\n",
       "      <td>(1_1025)</td>\n",
       "      <td>0.199480</td>\n",
       "      <td>0.005000</td>\n",
       "      <td>0.0011</td>\n",
       "      <td>0.005514</td>\n",
       "      <td>1.102867</td>\n",
       "      <td>0.000103</td>\n",
       "      <td>1.000517</td>\n",
       "    </tr>\n",
       "    <tr>\n",
       "      <th>2</th>\n",
       "      <td>(3_9)</td>\n",
       "      <td>(1_1025)</td>\n",
       "      <td>0.131187</td>\n",
       "      <td>0.005000</td>\n",
       "      <td>0.0015</td>\n",
       "      <td>0.011433</td>\n",
       "      <td>2.286814</td>\n",
       "      <td>0.000844</td>\n",
       "      <td>1.006508</td>\n",
       "    </tr>\n",
       "    <tr>\n",
       "      <th>3</th>\n",
       "      <td>(1_1025)</td>\n",
       "      <td>(3_9)</td>\n",
       "      <td>0.005000</td>\n",
       "      <td>0.131187</td>\n",
       "      <td>0.0015</td>\n",
       "      <td>0.300000</td>\n",
       "      <td>2.286814</td>\n",
       "      <td>0.000844</td>\n",
       "      <td>1.241162</td>\n",
       "    </tr>\n",
       "    <tr>\n",
       "      <th>4</th>\n",
       "      <td>(3_7)</td>\n",
       "      <td>(1_1131)</td>\n",
       "      <td>0.182282</td>\n",
       "      <td>0.002400</td>\n",
       "      <td>0.0012</td>\n",
       "      <td>0.006583</td>\n",
       "      <td>2.743006</td>\n",
       "      <td>0.000762</td>\n",
       "      <td>1.004211</td>\n",
       "    </tr>\n",
       "    <tr>\n",
       "      <th>...</th>\n",
       "      <td>...</td>\n",
       "      <td>...</td>\n",
       "      <td>...</td>\n",
       "      <td>...</td>\n",
       "      <td>...</td>\n",
       "      <td>...</td>\n",
       "      <td>...</td>\n",
       "      <td>...</td>\n",
       "      <td>...</td>\n",
       "    </tr>\n",
       "    <tr>\n",
       "      <th>179</th>\n",
       "      <td>(1_882)</td>\n",
       "      <td>(3_10)</td>\n",
       "      <td>0.004200</td>\n",
       "      <td>0.150785</td>\n",
       "      <td>0.0018</td>\n",
       "      <td>0.428571</td>\n",
       "      <td>2.842270</td>\n",
       "      <td>0.001167</td>\n",
       "      <td>1.486126</td>\n",
       "    </tr>\n",
       "    <tr>\n",
       "      <th>180</th>\n",
       "      <td>(4_10)</td>\n",
       "      <td>(3_ Book 2)\")</td>\n",
       "      <td>0.018598</td>\n",
       "      <td>0.003900</td>\n",
       "      <td>0.0011</td>\n",
       "      <td>0.059140</td>\n",
       "      <td>15.165564</td>\n",
       "      <td>0.001027</td>\n",
       "      <td>1.058712</td>\n",
       "    </tr>\n",
       "    <tr>\n",
       "      <th>181</th>\n",
       "      <td>(3_ Book 2)\")</td>\n",
       "      <td>(4_10)</td>\n",
       "      <td>0.003900</td>\n",
       "      <td>0.018598</td>\n",
       "      <td>0.0011</td>\n",
       "      <td>0.282051</td>\n",
       "      <td>15.165564</td>\n",
       "      <td>0.001027</td>\n",
       "      <td>1.366953</td>\n",
       "    </tr>\n",
       "    <tr>\n",
       "      <th>182</th>\n",
       "      <td>(4_7)</td>\n",
       "      <td>(3_ Book 2)\")</td>\n",
       "      <td>0.019998</td>\n",
       "      <td>0.003900</td>\n",
       "      <td>0.0012</td>\n",
       "      <td>0.060000</td>\n",
       "      <td>15.386154</td>\n",
       "      <td>0.001122</td>\n",
       "      <td>1.059681</td>\n",
       "    </tr>\n",
       "    <tr>\n",
       "      <th>183</th>\n",
       "      <td>(3_ Book 2)\")</td>\n",
       "      <td>(4_7)</td>\n",
       "      <td>0.003900</td>\n",
       "      <td>0.019998</td>\n",
       "      <td>0.0012</td>\n",
       "      <td>0.307692</td>\n",
       "      <td>15.386154</td>\n",
       "      <td>0.001122</td>\n",
       "      <td>1.415558</td>\n",
       "    </tr>\n",
       "  </tbody>\n",
       "</table>\n",
       "<p>184 rows × 9 columns</p>\n",
       "</div>"
      ],
      "text/plain": [
       "       antecedents    consequents  antecedent support  consequent support  \\\n",
       "0         (1_1025)          (3_8)            0.005000            0.199480   \n",
       "1            (3_8)       (1_1025)            0.199480            0.005000   \n",
       "2            (3_9)       (1_1025)            0.131187            0.005000   \n",
       "3         (1_1025)          (3_9)            0.005000            0.131187   \n",
       "4            (3_7)       (1_1131)            0.182282            0.002400   \n",
       "..             ...            ...                 ...                 ...   \n",
       "179        (1_882)         (3_10)            0.004200            0.150785   \n",
       "180         (4_10)  (3_ Book 2)\")            0.018598            0.003900   \n",
       "181  (3_ Book 2)\")         (4_10)            0.003900            0.018598   \n",
       "182          (4_7)  (3_ Book 2)\")            0.019998            0.003900   \n",
       "183  (3_ Book 2)\")          (4_7)            0.003900            0.019998   \n",
       "\n",
       "     support  confidence       lift  leverage  conviction  \n",
       "0     0.0011    0.220000   1.102867  0.000103    1.026308  \n",
       "1     0.0011    0.005514   1.102867  0.000103    1.000517  \n",
       "2     0.0015    0.011433   2.286814  0.000844    1.006508  \n",
       "3     0.0015    0.300000   2.286814  0.000844    1.241162  \n",
       "4     0.0012    0.006583   2.743006  0.000762    1.004211  \n",
       "..       ...         ...        ...       ...         ...  \n",
       "179   0.0018    0.428571   2.842270  0.001167    1.486126  \n",
       "180   0.0011    0.059140  15.165564  0.001027    1.058712  \n",
       "181   0.0011    0.282051  15.165564  0.001027    1.366953  \n",
       "182   0.0012    0.060000  15.386154  0.001122    1.059681  \n",
       "183   0.0012    0.307692  15.386154  0.001122    1.415558  \n",
       "\n",
       "[184 rows x 9 columns]"
      ]
     },
     "execution_count": 8,
     "metadata": {},
     "output_type": "execute_result"
    }
   ],
   "source": [
    "rules=association_rules(frequent_itemsets,metric='lift')\n",
    "rules"
   ]
  },
  {
   "cell_type": "markdown",
   "metadata": {},
   "source": [
    "A leverage value 0 indecates independets Range will be in [-1,1]\n",
    "High convict values means that the cosequent is highly dependen on the antecedent and range [0,inf]"
   ]
  },
  {
   "cell_type": "code",
   "execution_count": 9,
   "metadata": {},
   "outputs": [
    {
     "data": {
      "text/plain": [
       "Text(0, 0.5, 'support')"
      ]
     },
     "execution_count": 9,
     "metadata": {},
     "output_type": "execute_result"
    },
    {
     "data": {
      "image/png": "[encoded data removed]",
      "text/plain": [
       "<Figure size 432x288 with 1 Axes>"
      ]
     },
     "metadata": {
      "needs_background": "light"
     },
     "output_type": "display_data"
    }
   ],
   "source": [
    "import matplotlib.pyplot as plt\n",
    "import seaborn as sns\n",
    "plt.scatter(rules.confidence,rules.support);plt.xlabel(\"confidence\");plt.ylabel(\"support\")"
   ]
  },
  {
   "cell_type": "code",
   "execution_count": 10,
   "metadata": {},
   "outputs": [
    {
     "data": {
      "text/plain": [
       "Text(0, 0.5, 'support')"
      ]
     },
     "execution_count": 10,
     "metadata": {},
     "output_type": "execute_result"
    },
    {
     "data": {
      "image/png": "[encoded data removed]",
      "text/plain": [
       "<Figure size 432x288 with 1 Axes>"
      ]
     },
     "metadata": {
      "needs_background": "light"
     },
     "output_type": "display_data"
    }
   ],
   "source": [
    "sns.barplot(x=rules.confidence,y=rules.support);plt.xlabel(\"confidence\");plt.ylabel(\"support\")"
   ]
  },
  {
   "cell_type": "code",
   "execution_count": 11,
   "metadata": {},
   "outputs": [
    {
     "name": "stderr",
     "output_type": "stream",
     "text": [
      "C:\\Users\\mihir\\anaconda3\\lib\\site-packages\\seaborn\\distributions.py:2557: FutureWarning: `distplot` is a deprecated function and will be removed in a future version. Please adapt your code to use either `displot` (a figure-level function with similar flexibility) or `histplot` (an axes-level function for histograms).\n",
      "  warnings.warn(msg, FutureWarning)\n"
     ]
    },
    {
     "data": {
      "text/plain": [
       "<AxesSubplot:xlabel='lift'>"
      ]
     },
     "execution_count": 11,
     "metadata": {},
     "output_type": "execute_result"
    },
    {
     "data": {
      "image/png": "[encoded data removed]",
      "text/plain": [
       "<Figure size 432x288 with 1 Axes>"
      ]
     },
     "metadata": {
      "needs_background": "light"
     },
     "output_type": "display_data"
    }
   ],
   "source": [
    "sns.distplot(rules.lift,bins=50,kde=False)"
   ]
  },
  {
   "cell_type": "code",
   "execution_count": 12,
   "metadata": {},
   "outputs": [
    {
     "data": {
      "text/html": [
       "<div>\n",
       "<style scoped>\n",
       "    .dataframe tbody tr th:only-of-type {\n",
       "        vertical-align: middle;\n",
       "    }\n",
       "\n",
       "    .dataframe tbody tr th {\n",
       "        vertical-align: top;\n",
       "    }\n",
       "\n",
       "    .dataframe thead th {\n",
       "        text-align: right;\n",
       "    }\n",
       "</style>\n",
       "<table border=\"1\" class=\"dataframe\">\n",
       "  <thead>\n",
       "    <tr style=\"text-align: right;\">\n",
       "      <th></th>\n",
       "      <th>antecedents</th>\n",
       "      <th>consequents</th>\n",
       "      <th>antecedent support</th>\n",
       "      <th>consequent support</th>\n",
       "      <th>support</th>\n",
       "      <th>confidence</th>\n",
       "      <th>lift</th>\n",
       "      <th>leverage</th>\n",
       "      <th>conviction</th>\n",
       "    </tr>\n",
       "  </thead>\n",
       "  <tbody>\n",
       "    <tr>\n",
       "      <th>0</th>\n",
       "      <td>(1_161619)</td>\n",
       "      <td>(3_5)</td>\n",
       "      <td>0.0025</td>\n",
       "      <td>0.089991</td>\n",
       "      <td>0.0022</td>\n",
       "      <td>0.880000</td>\n",
       "      <td>9.778756</td>\n",
       "      <td>0.001975</td>\n",
       "      <td>7.583408</td>\n",
       "    </tr>\n",
       "    <tr>\n",
       "      <th>1</th>\n",
       "      <td>(1_2030)</td>\n",
       "      <td>(3_10)</td>\n",
       "      <td>0.0047</td>\n",
       "      <td>0.150785</td>\n",
       "      <td>0.0040</td>\n",
       "      <td>0.851064</td>\n",
       "      <td>5.644224</td>\n",
       "      <td>0.003291</td>\n",
       "      <td>5.701873</td>\n",
       "    </tr>\n",
       "    <tr>\n",
       "      <th>2</th>\n",
       "      <td>(1_2363)</td>\n",
       "      <td>(3_9)</td>\n",
       "      <td>0.0022</td>\n",
       "      <td>0.131187</td>\n",
       "      <td>0.0019</td>\n",
       "      <td>0.863636</td>\n",
       "      <td>6.583252</td>\n",
       "      <td>0.001611</td>\n",
       "      <td>6.371296</td>\n",
       "    </tr>\n",
       "    <tr>\n",
       "      <th>3</th>\n",
       "      <td>(1_277523)</td>\n",
       "      <td>(3_10)</td>\n",
       "      <td>0.0025</td>\n",
       "      <td>0.150785</td>\n",
       "      <td>0.0021</td>\n",
       "      <td>0.840000</td>\n",
       "      <td>5.570849</td>\n",
       "      <td>0.001723</td>\n",
       "      <td>5.307594</td>\n",
       "    </tr>\n",
       "  </tbody>\n",
       "</table>\n",
       "</div>"
      ],
      "text/plain": [
       "  antecedents consequents  antecedent support  consequent support  support  \\\n",
       "0  (1_161619)       (3_5)              0.0025            0.089991   0.0022   \n",
       "1    (1_2030)      (3_10)              0.0047            0.150785   0.0040   \n",
       "2    (1_2363)       (3_9)              0.0022            0.131187   0.0019   \n",
       "3  (1_277523)      (3_10)              0.0025            0.150785   0.0021   \n",
       "\n",
       "   confidence      lift  leverage  conviction  \n",
       "0    0.880000  9.778756  0.001975    7.583408  \n",
       "1    0.851064  5.644224  0.003291    5.701873  \n",
       "2    0.863636  6.583252  0.001611    6.371296  \n",
       "3    0.840000  5.570849  0.001723    5.307594  "
      ]
     },
     "execution_count": 12,
     "metadata": {},
     "output_type": "execute_result"
    }
   ],
   "source": [
    "rules_confi=association_rules(frequent_itemsets,metric='confidence')\n",
    "rules_confi"
   ]
  },
  {
   "cell_type": "code",
   "execution_count": 13,
   "metadata": {
    "scrolled": true
   },
   "outputs": [
    {
     "data": {
      "text/plain": [
       "Text(0, 0.5, 'support')"
      ]
     },
     "execution_count": 13,
     "metadata": {},
     "output_type": "execute_result"
    },
    {
     "data": {
      "image/png": "[encoded data removed]",
      "text/plain": [
       "<Figure size 432x288 with 1 Axes>"
      ]
     },
     "metadata": {
      "needs_background": "light"
     },
     "output_type": "display_data"
    }
   ],
   "source": [
    "plt.scatter(rules_confi.confidence,rules_confi.support);plt.xlabel(\"confidence\");plt.ylabel(\"support\")"
   ]
  },
  {
   "cell_type": "code",
   "execution_count": 14,
   "metadata": {},
   "outputs": [
    {
     "name": "stderr",
     "output_type": "stream",
     "text": [
      "C:\\Users\\mihir\\anaconda3\\lib\\site-packages\\seaborn\\_decorators.py:36: FutureWarning: Pass the following variables as keyword args: x, y. From version 0.12, the only valid positional argument will be `data`, and passing other arguments without an explicit keyword will result in an error or misinterpretation.\n",
      "  warnings.warn(\n"
     ]
    },
    {
     "data": {
      "text/plain": [
       "Text(0, 0.5, 'support')"
      ]
     },
     "execution_count": 14,
     "metadata": {},
     "output_type": "execute_result"
    },
    {
     "data": {
      "image/png": "[encoded data removed]",
      "text/plain": [
       "<Figure size 432x288 with 1 Axes>"
      ]
     },
     "metadata": {
      "needs_background": "light"
     },
     "output_type": "display_data"
    }
   ],
   "source": [
    "sns.barplot(rules_confi.confidence,rules_confi.support);plt.xlabel(\"confidence\");plt.ylabel(\"support\")"
   ]
  },
  {
   "cell_type": "code",
   "execution_count": 15,
   "metadata": {},
   "outputs": [
    {
     "data": {
      "text/html": [
       "<div>\n",
       "<style scoped>\n",
       "    .dataframe tbody tr th:only-of-type {\n",
       "        vertical-align: middle;\n",
       "    }\n",
       "\n",
       "    .dataframe tbody tr th {\n",
       "        vertical-align: top;\n",
       "    }\n",
       "\n",
       "    .dataframe thead th {\n",
       "        text-align: right;\n",
       "    }\n",
       "</style>\n",
       "<table border=\"1\" class=\"dataframe\">\n",
       "  <thead>\n",
       "    <tr style=\"text-align: right;\">\n",
       "      <th></th>\n",
       "      <th>support</th>\n",
       "      <th>itemsets</th>\n",
       "    </tr>\n",
       "  </thead>\n",
       "  <tbody>\n",
       "    <tr>\n",
       "      <th>0</th>\n",
       "      <td>0.008899</td>\n",
       "      <td>(1_161041)</td>\n",
       "    </tr>\n",
       "    <tr>\n",
       "      <th>1</th>\n",
       "      <td>0.021398</td>\n",
       "      <td>(1_162052)</td>\n",
       "    </tr>\n",
       "    <tr>\n",
       "      <th>2</th>\n",
       "      <td>0.009099</td>\n",
       "      <td>(1_1733)</td>\n",
       "    </tr>\n",
       "    <tr>\n",
       "      <th>3</th>\n",
       "      <td>0.009099</td>\n",
       "      <td>(1_183)</td>\n",
       "    </tr>\n",
       "    <tr>\n",
       "      <th>4</th>\n",
       "      <td>0.013199</td>\n",
       "      <td>(1_2033)</td>\n",
       "    </tr>\n",
       "    <tr>\n",
       "      <th>5</th>\n",
       "      <td>0.010299</td>\n",
       "      <td>(1_2110)</td>\n",
       "    </tr>\n",
       "    <tr>\n",
       "      <th>6</th>\n",
       "      <td>0.021198</td>\n",
       "      <td>(1_2276)</td>\n",
       "    </tr>\n",
       "    <tr>\n",
       "      <th>7</th>\n",
       "      <td>0.007199</td>\n",
       "      <td>(1_2442)</td>\n",
       "    </tr>\n",
       "    <tr>\n",
       "      <th>8</th>\n",
       "      <td>0.008599</td>\n",
       "      <td>(1_2766)</td>\n",
       "    </tr>\n",
       "    <tr>\n",
       "      <th>9</th>\n",
       "      <td>0.014999</td>\n",
       "      <td>(1_277427)</td>\n",
       "    </tr>\n",
       "    <tr>\n",
       "      <th>10</th>\n",
       "      <td>0.011699</td>\n",
       "      <td>(1_278418)</td>\n",
       "    </tr>\n",
       "    <tr>\n",
       "      <th>11</th>\n",
       "      <td>0.009399</td>\n",
       "      <td>(1_3363)</td>\n",
       "    </tr>\n",
       "    <tr>\n",
       "      <th>12</th>\n",
       "      <td>0.052295</td>\n",
       "      <td>(1_3757)</td>\n",
       "    </tr>\n",
       "    <tr>\n",
       "      <th>13</th>\n",
       "      <td>0.015598</td>\n",
       "      <td>(1_4017)</td>\n",
       "    </tr>\n",
       "    <tr>\n",
       "      <th>14</th>\n",
       "      <td>0.150785</td>\n",
       "      <td>(3_10)</td>\n",
       "    </tr>\n",
       "    <tr>\n",
       "      <th>15</th>\n",
       "      <td>0.012699</td>\n",
       "      <td>(3_3)</td>\n",
       "    </tr>\n",
       "    <tr>\n",
       "      <th>16</th>\n",
       "      <td>0.021098</td>\n",
       "      <td>(3_4)</td>\n",
       "    </tr>\n",
       "    <tr>\n",
       "      <th>17</th>\n",
       "      <td>0.089991</td>\n",
       "      <td>(3_5)</td>\n",
       "    </tr>\n",
       "    <tr>\n",
       "      <th>18</th>\n",
       "      <td>0.080392</td>\n",
       "      <td>(3_6)</td>\n",
       "    </tr>\n",
       "    <tr>\n",
       "      <th>19</th>\n",
       "      <td>0.182282</td>\n",
       "      <td>(3_7)</td>\n",
       "    </tr>\n",
       "    <tr>\n",
       "      <th>20</th>\n",
       "      <td>0.199480</td>\n",
       "      <td>(3_8)</td>\n",
       "    </tr>\n",
       "    <tr>\n",
       "      <th>21</th>\n",
       "      <td>0.131187</td>\n",
       "      <td>(3_9)</td>\n",
       "    </tr>\n",
       "    <tr>\n",
       "      <th>22</th>\n",
       "      <td>0.018598</td>\n",
       "      <td>(4_10)</td>\n",
       "    </tr>\n",
       "    <tr>\n",
       "      <th>23</th>\n",
       "      <td>0.008899</td>\n",
       "      <td>(4_5)</td>\n",
       "    </tr>\n",
       "    <tr>\n",
       "      <th>24</th>\n",
       "      <td>0.009099</td>\n",
       "      <td>(4_6)</td>\n",
       "    </tr>\n",
       "    <tr>\n",
       "      <th>25</th>\n",
       "      <td>0.019998</td>\n",
       "      <td>(4_7)</td>\n",
       "    </tr>\n",
       "    <tr>\n",
       "      <th>26</th>\n",
       "      <td>0.022298</td>\n",
       "      <td>(4_8)</td>\n",
       "    </tr>\n",
       "    <tr>\n",
       "      <th>27</th>\n",
       "      <td>0.014999</td>\n",
       "      <td>(4_9)</td>\n",
       "    </tr>\n",
       "    <tr>\n",
       "      <th>28</th>\n",
       "      <td>0.007799</td>\n",
       "      <td>(3_10, 1_162052)</td>\n",
       "    </tr>\n",
       "    <tr>\n",
       "      <th>29</th>\n",
       "      <td>0.029997</td>\n",
       "      <td>(1_3757, 3_7)</td>\n",
       "    </tr>\n",
       "    <tr>\n",
       "      <th>30</th>\n",
       "      <td>0.007599</td>\n",
       "      <td>(1_3757, 3_8)</td>\n",
       "    </tr>\n",
       "  </tbody>\n",
       "</table>\n",
       "</div>"
      ],
      "text/plain": [
       "     support          itemsets\n",
       "0   0.008899        (1_161041)\n",
       "1   0.021398        (1_162052)\n",
       "2   0.009099          (1_1733)\n",
       "3   0.009099           (1_183)\n",
       "4   0.013199          (1_2033)\n",
       "5   0.010299          (1_2110)\n",
       "6   0.021198          (1_2276)\n",
       "7   0.007199          (1_2442)\n",
       "8   0.008599          (1_2766)\n",
       "9   0.014999        (1_277427)\n",
       "10  0.011699        (1_278418)\n",
       "11  0.009399          (1_3363)\n",
       "12  0.052295          (1_3757)\n",
       "13  0.015598          (1_4017)\n",
       "14  0.150785            (3_10)\n",
       "15  0.012699             (3_3)\n",
       "16  0.021098             (3_4)\n",
       "17  0.089991             (3_5)\n",
       "18  0.080392             (3_6)\n",
       "19  0.182282             (3_7)\n",
       "20  0.199480             (3_8)\n",
       "21  0.131187             (3_9)\n",
       "22  0.018598            (4_10)\n",
       "23  0.008899             (4_5)\n",
       "24  0.009099             (4_6)\n",
       "25  0.019998             (4_7)\n",
       "26  0.022298             (4_8)\n",
       "27  0.014999             (4_9)\n",
       "28  0.007799  (3_10, 1_162052)\n",
       "29  0.029997     (1_3757, 3_7)\n",
       "30  0.007599     (1_3757, 3_8)"
      ]
     },
     "execution_count": 15,
     "metadata": {},
     "output_type": "execute_result"
    }
   ],
   "source": [
    "#NOW WE CHANGING min_support VALUE IN APRIORI ALGORITHM\n",
    "frequent_patterns1=apriori(data,min_support=0.007,use_colnames=True)\n",
    "frequent_patterns1"
   ]
  },
  {
   "cell_type": "code",
   "execution_count": 16,
   "metadata": {},
   "outputs": [
    {
     "data": {
      "text/html": [
       "<div>\n",
       "<style scoped>\n",
       "    .dataframe tbody tr th:only-of-type {\n",
       "        vertical-align: middle;\n",
       "    }\n",
       "\n",
       "    .dataframe tbody tr th {\n",
       "        vertical-align: top;\n",
       "    }\n",
       "\n",
       "    .dataframe thead th {\n",
       "        text-align: right;\n",
       "    }\n",
       "</style>\n",
       "<table border=\"1\" class=\"dataframe\">\n",
       "  <thead>\n",
       "    <tr style=\"text-align: right;\">\n",
       "      <th></th>\n",
       "      <th>antecedents</th>\n",
       "      <th>consequents</th>\n",
       "      <th>antecedent support</th>\n",
       "      <th>consequent support</th>\n",
       "      <th>support</th>\n",
       "      <th>confidence</th>\n",
       "      <th>lift</th>\n",
       "      <th>leverage</th>\n",
       "      <th>conviction</th>\n",
       "    </tr>\n",
       "  </thead>\n",
       "  <tbody>\n",
       "    <tr>\n",
       "      <th>0</th>\n",
       "      <td>(3_10)</td>\n",
       "      <td>(1_162052)</td>\n",
       "      <td>0.150785</td>\n",
       "      <td>0.021398</td>\n",
       "      <td>0.007799</td>\n",
       "      <td>0.051724</td>\n",
       "      <td>2.417257</td>\n",
       "      <td>0.004573</td>\n",
       "      <td>1.031980</td>\n",
       "    </tr>\n",
       "    <tr>\n",
       "      <th>1</th>\n",
       "      <td>(1_162052)</td>\n",
       "      <td>(3_10)</td>\n",
       "      <td>0.021398</td>\n",
       "      <td>0.150785</td>\n",
       "      <td>0.007799</td>\n",
       "      <td>0.364486</td>\n",
       "      <td>2.417257</td>\n",
       "      <td>0.004573</td>\n",
       "      <td>1.336265</td>\n",
       "    </tr>\n",
       "    <tr>\n",
       "      <th>2</th>\n",
       "      <td>(1_3757)</td>\n",
       "      <td>(3_7)</td>\n",
       "      <td>0.052295</td>\n",
       "      <td>0.182282</td>\n",
       "      <td>0.029997</td>\n",
       "      <td>0.573614</td>\n",
       "      <td>3.146852</td>\n",
       "      <td>0.020465</td>\n",
       "      <td>1.917788</td>\n",
       "    </tr>\n",
       "    <tr>\n",
       "      <th>3</th>\n",
       "      <td>(3_7)</td>\n",
       "      <td>(1_3757)</td>\n",
       "      <td>0.182282</td>\n",
       "      <td>0.052295</td>\n",
       "      <td>0.029997</td>\n",
       "      <td>0.164564</td>\n",
       "      <td>3.146852</td>\n",
       "      <td>0.020465</td>\n",
       "      <td>1.134384</td>\n",
       "    </tr>\n",
       "  </tbody>\n",
       "</table>\n",
       "</div>"
      ],
      "text/plain": [
       "  antecedents consequents  antecedent support  consequent support   support  \\\n",
       "0      (3_10)  (1_162052)            0.150785            0.021398  0.007799   \n",
       "1  (1_162052)      (3_10)            0.021398            0.150785  0.007799   \n",
       "2    (1_3757)       (3_7)            0.052295            0.182282  0.029997   \n",
       "3       (3_7)    (1_3757)            0.182282            0.052295  0.029997   \n",
       "\n",
       "   confidence      lift  leverage  conviction  \n",
       "0    0.051724  2.417257  0.004573    1.031980  \n",
       "1    0.364486  2.417257  0.004573    1.336265  \n",
       "2    0.573614  3.146852  0.020465    1.917788  \n",
       "3    0.164564  3.146852  0.020465    1.134384  "
      ]
     },
     "execution_count": 16,
     "metadata": {},
     "output_type": "execute_result"
    }
   ],
   "source": [
    "rules_lift=association_rules(frequent_patterns1,metric='lift')\n",
    "rules_lift"
   ]
  },
  {
   "cell_type": "code",
   "execution_count": 17,
   "metadata": {
    "scrolled": true
   },
   "outputs": [
    {
     "data": {
      "text/plain": [
       "Text(0, 0.5, 'support')"
      ]
     },
     "execution_count": 17,
     "metadata": {},
     "output_type": "execute_result"
    },
    {
     "data": {
      "image/png": "[encoded data removed]",
      "text/plain": [
       "<Figure size 432x288 with 1 Axes>"
      ]
     },
     "metadata": {
      "needs_background": "light"
     },
     "output_type": "display_data"
    }
   ],
   "source": [
    "plt.scatter(rules_lift.confidence,rules_lift.support);plt.xlabel(\"confidence\");plt.ylabel(\"support\")"
   ]
  },
  {
   "cell_type": "code",
   "execution_count": 18,
   "metadata": {},
   "outputs": [
    {
     "name": "stderr",
     "output_type": "stream",
     "text": [
      "C:\\Users\\mihir\\anaconda3\\lib\\site-packages\\seaborn\\_decorators.py:36: FutureWarning: Pass the following variables as keyword args: x, y. From version 0.12, the only valid positional argument will be `data`, and passing other arguments without an explicit keyword will result in an error or misinterpretation.\n",
      "  warnings.warn(\n"
     ]
    },
    {
     "data": {
      "text/plain": [
       "Text(0, 0.5, 'support')"
      ]
     },
     "execution_count": 18,
     "metadata": {},
     "output_type": "execute_result"
    },
    {
     "data": {
      "image/png": "[encoded data removed]",
      "text/plain": [
       "<Figure size 432x288 with 1 Axes>"
      ]
     },
     "metadata": {
      "needs_background": "light"
     },
     "output_type": "display_data"
    }
   ],
   "source": [
    "sns.barplot(rules_lift.confidence,rules_lift.support);plt.xlabel(\"confidence\");plt.ylabel(\"support\")"
   ]
  },
  {
   "cell_type": "code",
   "execution_count": 19,
   "metadata": {},
   "outputs": [
    {
     "data": {
      "text/html": [
       "<div>\n",
       "<style scoped>\n",
       "    .dataframe tbody tr th:only-of-type {\n",
       "        vertical-align: middle;\n",
       "    }\n",
       "\n",
       "    .dataframe tbody tr th {\n",
       "        vertical-align: top;\n",
       "    }\n",
       "\n",
       "    .dataframe thead th {\n",
       "        text-align: right;\n",
       "    }\n",
       "</style>\n",
       "<table border=\"1\" class=\"dataframe\">\n",
       "  <thead>\n",
       "    <tr style=\"text-align: right;\">\n",
       "      <th></th>\n",
       "      <th>antecedents</th>\n",
       "      <th>consequents</th>\n",
       "      <th>antecedent support</th>\n",
       "      <th>consequent support</th>\n",
       "      <th>support</th>\n",
       "      <th>confidence</th>\n",
       "      <th>lift</th>\n",
       "      <th>leverage</th>\n",
       "      <th>conviction</th>\n",
       "    </tr>\n",
       "  </thead>\n",
       "  <tbody>\n",
       "  </tbody>\n",
       "</table>\n",
       "</div>"
      ],
      "text/plain": [
       "Empty DataFrame\n",
       "Columns: [antecedents, consequents, antecedent support, consequent support, support, confidence, lift, leverage, conviction]\n",
       "Index: []"
      ]
     },
     "execution_count": 19,
     "metadata": {},
     "output_type": "execute_result"
    }
   ],
   "source": [
    "rules_confi2=association_rules(frequent_patterns1,metric='confidence')\n",
    "rules_confi2"
   ]
  },
  {
   "cell_type": "code",
   "execution_count": null,
   "metadata": {},
   "outputs": [],
   "source": []
  },
  {
   "cell_type": "code",
   "execution_count": null,
   "metadata": {},
   "outputs": [],
   "source": []
  }
 ],
 "metadata": {
  "kernelspec": {
   "display_name": "Python 3",
   "language": "python",
   "name": "python3"
  },
  "language_info": {
   "codemirror_mode": {
    "name": "ipython",
    "version": 3
   },
   "file_extension": ".py",
   "mimetype": "text/x-python",
   "name": "python",
   "nbconvert_exporter": "python",
   "pygments_lexer": "ipython3",
   "version": "3.8.8"
  }
 },
 "nbformat": 4,
 "nbformat_minor": 4
}
